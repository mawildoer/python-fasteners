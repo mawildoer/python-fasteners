{
 "cells": [
  {
   "cell_type": "code",
   "execution_count": 2,
   "id": "ce94e3fd",
   "metadata": {},
   "outputs": [],
   "source": [
    "import sympy as sp"
   ]
  },
  {
   "cell_type": "code",
   "execution_count": 4,
   "id": "e8e577ed",
   "metadata": {},
   "outputs": [],
   "source": [
    "torque, preload, diameter = sp.symbols(\"torque preload diameter\")"
   ]
  },
  {
   "cell_type": "code",
   "execution_count": 5,
   "id": "1d6945e0",
   "metadata": {},
   "outputs": [],
   "source": [
    "torque = 0.2*preload*diameter"
   ]
  },
  {
   "cell_type": "code",
   "execution_count": null,
   "id": "d448d0ea",
   "metadata": {},
   "outputs": [],
   "source": []
  }
 ],
 "metadata": {
  "kernelspec": {
   "display_name": "Python 3",
   "language": "python",
   "name": "python3"
  },
  "language_info": {
   "codemirror_mode": {
    "name": "ipython",
    "version": 3
   },
   "file_extension": ".py",
   "mimetype": "text/x-python",
   "name": "python",
   "nbconvert_exporter": "python",
   "pygments_lexer": "ipython3",
   "version": "3.8.5"
  }
 },
 "nbformat": 4,
 "nbformat_minor": 5
}
